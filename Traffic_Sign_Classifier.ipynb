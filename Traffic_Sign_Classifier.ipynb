{
 "cells": [
  {
   "cell_type": "markdown",
   "metadata": {},
   "source": [
    "# Self-Driving Car Engineer Nanodegree\n",
    "\n",
    "## Deep Learning\n",
    "\n",
    "## Project: Build a Traffic Sign Recognition Classifier\n",
    "\n",
    "In this notebook, a template is provided for you to implement your functionality in stages, which is required to successfully complete this project. If additional code is required that cannot be included in the notebook, be sure that the Python code is successfully imported and included in your submission if necessary. \n",
    "\n",
    "> **Note**: Once you have completed all of the code implementations, you need to finalize your work by exporting the iPython Notebook as an HTML document. Before exporting the notebook to html, all of the code cells need to have been run so that reviewers can see the final implementation and output. You can then export the notebook by using the menu above and navigating to  \\n\",\n",
    "    \"**File -> Download as -> HTML (.html)**. Include the finished document along with this notebook as your submission. \n",
    "\n",
    "In addition to implementing code, there is a writeup to complete. The writeup should be completed in a separate file, which can be either a markdown file or a pdf document. There is a [write up template](https://github.com/udacity/CarND-Traffic-Sign-Classifier-Project/blob/master/writeup_template.md) that can be used to guide the writing process. Completing the code template and writeup template will cover all of the [rubric points](https://review.udacity.com/#!/rubrics/481/view) for this project.\n",
    "\n",
    "The [rubric](https://review.udacity.com/#!/rubrics/481/view) contains \"Stand Out Suggestions\" for enhancing the project beyond the minimum requirements. The stand out suggestions are optional. If you decide to pursue the \"stand out suggestions\", you can include the code in this Ipython notebook and also discuss the results in the writeup file.\n",
    "\n",
    "\n",
    ">**Note:** Code and Markdown cells can be executed using the **Shift + Enter** keyboard shortcut. In addition, Markdown cells can be edited by typically double-clicking the cell to enter edit mode."
   ]
  },
  {
   "cell_type": "code",
   "execution_count": 234,
   "metadata": {
    "collapsed": false
   },
   "outputs": [],
   "source": [
    "# import libraries\n",
    "%matplotlib inline\n",
    "import os\n",
    "import pickle\n",
    "import random\n",
    "import csv\n",
    "import cv2\n",
    "import numpy as np\n",
    "import pandas as pd\n",
    "import seaborn as sns\n",
    "import tensorflow as tf\n",
    "from PIL import Image\n",
    "from tensorflow.contrib.layers import flatten\n",
    "from sklearn.model_selection import train_test_split\n",
    "from sklearn.utils import shuffle\n",
    "import matplotlib.pyplot as plt\n",
    "sns.set()"
   ]
  },
  {
   "cell_type": "markdown",
   "metadata": {},
   "source": [
    "---\n",
    "## Step 0: Load The Data"
   ]
  },
  {
   "cell_type": "code",
   "execution_count": 2,
   "metadata": {
    "collapsed": false
   },
   "outputs": [],
   "source": [
    "# Load pickled data\n",
    "\n",
    "def load_pickle(file_path):\n",
    "    with open(file_path, mode='rb') as f:\n",
    "        return pickle.load(f)\n",
    "    \n",
    "# assume the work directory is CarND-Traffic-Sign-Classifier-Project\n",
    "data_path = os.path.abspath('traffic-signs-data')\n",
    "signnames_path = os.path.abspath('signnames.csv')\n",
    "\n",
    "training_file = data_path + '/train.p'\n",
    "validating_file = data_path + '/valid.p'\n",
    "testing_file = data_path + '/test.p'\n",
    "\n",
    "train = load_pickle(training_file)\n",
    "valid = load_pickle(validating_file)\n",
    "test = load_pickle(testing_file)\n",
    "    \n",
    "X_train, y_train = train['features'], train['labels']\n",
    "X_valid, y_valid = valid['features'], valid['labels']\n",
    "X_test, y_test = test['features'], test['labels']"
   ]
  },
  {
   "cell_type": "code",
   "execution_count": 3,
   "metadata": {
    "collapsed": false
   },
   "outputs": [],
   "source": [
    "# load sign <=> name mapping. This is only for data exploration\n",
    "signnames = {}\n",
    "with open(signnames_path) as f:\n",
    "    reader = csv.DictReader(f)\n",
    "    for row in reader:\n",
    "        signnames[int(row['ClassId'])]  = row['SignName']"
   ]
  },
  {
   "cell_type": "markdown",
   "metadata": {},
   "source": [
    "---\n",
    "\n",
    "## Step 1: Dataset Summary & Exploration\n",
    "\n",
    "The pickled data is a dictionary with 4 key/value pairs:\n",
    "\n",
    "- `'features'` is a 4D array containing raw pixel data of the traffic sign images, (num examples, width, height, channels).\n",
    "- `'labels'` is a 1D array containing the label/class id of the traffic sign. The file `signnames.csv` contains id -> name mappings for each id.\n",
    "- `'sizes'` is a list containing tuples, (width, height) representing the original width and height the image.\n",
    "- `'coords'` is a list containing tuples, (x1, y1, x2, y2) representing coordinates of a bounding box around the sign in the image. **THESE COORDINATES ASSUME THE ORIGINAL IMAGE. THE PICKLED DATA CONTAINS RESIZED VERSIONS (32 by 32) OF THESE IMAGES**\n",
    "\n",
    "Complete the basic data summary below. Use python, numpy and/or pandas methods to calculate the data summary rather than hard coding the results. For example, the [pandas shape method](http://pandas.pydata.org/pandas-docs/stable/generated/pandas.DataFrame.shape.html) might be useful for calculating some of the summary results. "
   ]
  },
  {
   "cell_type": "markdown",
   "metadata": {},
   "source": [
    "### Provide a Basic Summary of the Data Set Using Python, Numpy and/or Pandas"
   ]
  },
  {
   "cell_type": "code",
   "execution_count": 4,
   "metadata": {
    "collapsed": false
   },
   "outputs": [
    {
     "name": "stdout",
     "output_type": "stream",
     "text": [
      "Number of training examples = 34799\n",
      "Number of validating examples = 4410\n",
      "Number of testing examples = 12630\n",
      "Image data shape = (32, 32, 3)\n",
      "Number of channels = 3\n",
      "Number of classes = 43\n"
     ]
    }
   ],
   "source": [
    "assert(len(X_train) == len(y_train))\n",
    "assert(len(X_valid) == len(y_valid))\n",
    "assert(len(X_test) == len(y_test))\n",
    "\n",
    "# Number of examples\n",
    "n_train = len(X_train)\n",
    "n_valid = len(X_valid)\n",
    "n_test = len(X_test)\n",
    "\n",
    "# What's the shape of an traffic sign image?\n",
    "image_shape = X_train[0].shape\n",
    "n_channels = image_shape[-1]\n",
    "\n",
    "# How many unique classes/labels there are in the dataset.\n",
    "y_combined = [y_train, y_valid, y_test]\n",
    "n_classes = len(set(x for y in y_combined for x in y))\n",
    "\n",
    "print(\"Number of training examples =\", n_train)\n",
    "print(\"Number of validating examples =\", n_valid)\n",
    "print(\"Number of testing examples =\", n_test)\n",
    "print(\"Image data shape =\", image_shape)\n",
    "print(\"Number of channels =\", n_channels)\n",
    "print(\"Number of classes =\", n_classes)"
   ]
  },
  {
   "cell_type": "markdown",
   "metadata": {},
   "source": [
    "### Include an exploratory visualization of the dataset"
   ]
  },
  {
   "cell_type": "markdown",
   "metadata": {},
   "source": [
    "Visualize the German Traffic Signs Dataset using the pickled file(s). This is open ended, suggestions include: plotting traffic sign images, plotting the count of each sign, etc.\n",
    "\n",
    "The [Matplotlib](http://matplotlib.org/) [examples](http://matplotlib.org/examples/index.html) and [gallery](http://matplotlib.org/gallery.html) pages are a great resource for doing visualizations in Python.\n",
    "\n",
    "**NOTE:** It's recommended you start with something simple first. If you wish to do more, come back to it after you've completed the rest of the sections."
   ]
  },
  {
   "cell_type": "code",
   "execution_count": 5,
   "metadata": {
    "collapsed": false
   },
   "outputs": [],
   "source": [
    "def plot_image(image):\n",
    "    plt.imshow(image)\n",
    "    \n",
    "def plot_hist(dataset, title='Histogram'):\n",
    "    plt.hist(dataset, bins=np.arange(n_classes))\n",
    "    plt.title(title)\n",
    "    \n",
    "def show_image_samples(imageset, labelset):\n",
    "    fig = plt.figure(figsize=(18,18))\n",
    "    for i in range(25):\n",
    "        a = fig.add_subplot(5,5,i+1)\n",
    "        index = random.randint(0, len(imageset))\n",
    "        plot_image(imageset[index].squeeze())\n",
    "        a.set_title(signnames[labelset[index]])\n",
    "\n",
    "def show_label_distrbution(training_lables, validation_labels, testing_labels):\n",
    "    fig = plt.figure()\n",
    "    a = fig.add_subplot(2,2,1)\n",
    "    plot_hist(np.concatenate([training_lables, validation_labels, testing_labels]), title=\"All labels distribution\")\n",
    "    b = fig.add_subplot(2,2,2)\n",
    "    plot_hist(training_lables, title=\"Training labels distribution\")\n",
    "    c = fig.add_subplot(2,2,3)\n",
    "    plot_hist(validation_labels, title=\"Validatting labels distribution\")\n",
    "    d = fig.add_subplot(2,2,4)\n",
    "    plot_hist(testing_labels, title=\"Testing labels distribution\")"
   ]
  },
  {
   "cell_type": "markdown",
   "metadata": {},
   "source": [
    "### training samples"
   ]
  },
  {
   "cell_type": "code",
   "execution_count": null,
   "metadata": {
    "collapsed": false,
    "scrolled": true
   },
   "outputs": [],
   "source": [
    "show_image_samples(X_train, y_train)"
   ]
  },
  {
   "cell_type": "code",
   "execution_count": null,
   "metadata": {
    "collapsed": false
   },
   "outputs": [],
   "source": [
    "show_label_distrbution(y_train, y_valid, y_test)"
   ]
  },
  {
   "cell_type": "markdown",
   "metadata": {},
   "source": [
    "----\n",
    "\n",
    "## Step 2: Design and Test a Model Architecture\n",
    "\n",
    "Design and implement a deep learning model that learns to recognize traffic signs. Train and test your model on the [German Traffic Sign Dataset](http://benchmark.ini.rub.de/?section=gtsrb&subsection=dataset).\n",
    "\n",
    "The LeNet-5 implementation shown in the [classroom](https://classroom.udacity.com/nanodegrees/nd013/parts/fbf77062-5703-404e-b60c-95b78b2f3f9e/modules/6df7ae49-c61c-4bb2-a23e-6527e69209ec/lessons/601ae704-1035-4287-8b11-e2c2716217ad/concepts/d4aca031-508f-4e0b-b493-e7b706120f81) at the end of the CNN lesson is a solid starting point. You'll have to change the number of classes and possibly the preprocessing, but aside from that it's plug and play! \n",
    "\n",
    "With the LeNet-5 solution from the lecture, you should expect a validation set accuracy of about 0.89. To meet specifications, the validation set accuracy will need to be at least 0.93. It is possible to get an even higher accuracy, but 0.93 is the minimum for a successful project submission. \n",
    "\n",
    "There are various aspects to consider when thinking about this problem:\n",
    "\n",
    "- Neural network architecture (is the network over or underfitting?)\n",
    "- Play around preprocessing techniques (normalization, rgb to grayscale, etc)\n",
    "- Number of examples per label (some have more than others).\n",
    "- Generate fake data.\n",
    "\n",
    "Here is an example of a [published baseline model on this problem](http://yann.lecun.com/exdb/publis/pdf/sermanet-ijcnn-11.pdf). It's not required to be familiar with the approach used in the paper but, it's good practice to try to read papers like these."
   ]
  },
  {
   "cell_type": "markdown",
   "metadata": {},
   "source": [
    "### Pre-process the Data Set (normalization, grayscale, etc.)"
   ]
  },
  {
   "cell_type": "markdown",
   "metadata": {},
   "source": [
    "Use the code cell (or multiple code cells, if necessary) to implement the first step of your project."
   ]
  },
  {
   "cell_type": "code",
   "execution_count": 6,
   "metadata": {
    "collapsed": true
   },
   "outputs": [],
   "source": [
    "def grayscale(img):\n",
    "    \"\"\"Applies the Grayscale transform\n",
    "    This will return an image with only one color channel\n",
    "    but NOTE: to see the returned image as grayscale\n",
    "    (assuming your grayscaled image is called 'gray')\n",
    "    you should call plt.imshow(gray, cmap='gray')\"\"\"\n",
    "    return cv2.cvtColor(img, cv2.COLOR_RGB2GRAY)\n",
    "\n",
    "def rgb2y(img):\n",
    "    \"\"\"\n",
    "    extract Y' channel from RGB channels\n",
    "    \"\"\"\n",
    "    return 0.299 * img[:,:,0] + 0.587 * img[:,:,1] + 0.114 * img[:,:,2]\n",
    "\n",
    "def decolorize(dataset, algorithm):\n",
    "    after = []\n",
    "    for e in dataset:\n",
    "        after.append(algorithm(e).reshape(32,32,1))\n",
    "    return np.array(after)\n",
    "\n",
    "def normalize(image_data):\n",
    "    \"\"\"\n",
    "    Normalize the image data with Min-Max scaling to a range of [0.1, 0.9]\n",
    "    :param image_data: The image data to be normalized\n",
    "    :return: Normalized image data\n",
    "    \"\"\"\n",
    "    return 0.1 + 0.8 * image_data / 255"
   ]
  },
  {
   "cell_type": "code",
   "execution_count": null,
   "metadata": {
    "collapsed": false
   },
   "outputs": [],
   "source": [
    "# X_train = decolorize(X_train, rgb2y)\n",
    "# X_valid = decolorize(X_valid, rgb2y)\n",
    "# X_test = decolorize(X_test, rgb2y)\n",
    "# n_channels = 1"
   ]
  },
  {
   "cell_type": "code",
   "execution_count": 7,
   "metadata": {
    "collapsed": false
   },
   "outputs": [],
   "source": [
    "X_train = normalize(X_train)\n",
    "X_valid = normalize(X_valid)\n",
    "X_test = normalize(X_test)"
   ]
  },
  {
   "cell_type": "code",
   "execution_count": null,
   "metadata": {
    "collapsed": false
   },
   "outputs": [],
   "source": [
    "# X_train = proprocess(X_train, rgb2y)\n",
    "# X_valid = proprocess(X_valid, rgb2y)\n",
    "# X_test = proprocess(X_test, rgb2y)\n",
    "# n_channels = 1\n",
    "\n",
    "X_train_valid = np.concatenate([X_train, X_valid])\n",
    "y_train_valid = np.concatenate([y_train, y_valid])\n",
    "y_all = np.concatenate([y_train_valid, y_test])\n",
    "\n",
    "X_train_valid = normalize(X_train_valid)\n",
    "X_test = normalize(X_test)\n",
    "\n",
    "X_train_valid, y_train_valid = shuffle(X_train_valid, y_train_valid)\n",
    "\n",
    "X_train, X_valid, y_train, y_valid = train_test_split(\n",
    "    X_train_valid,\n",
    "    y_train_valid,\n",
    "    test_size=0.11)"
   ]
  },
  {
   "cell_type": "code",
   "execution_count": null,
   "metadata": {
    "collapsed": false
   },
   "outputs": [],
   "source": [
    "show_label_distrbution(y_train, y_valid, y_test)"
   ]
  },
  {
   "cell_type": "markdown",
   "metadata": {},
   "source": [
    "### Model Architecture"
   ]
  },
  {
   "cell_type": "code",
   "execution_count": null,
   "metadata": {
    "collapsed": true
   },
   "outputs": [],
   "source": [
    "### This is the same model fro LeNet Lab. This yields a validation accuracy of 91%\n",
    "def LeNet5(x):    \n",
    "    # Arguments used for tf.truncated_normal\n",
    "    # randomly defines variables for the weights and biases for each layer\n",
    "    mu = 0\n",
    "    sigma = 0.1\n",
    "    \n",
    "    # Layer 1: Convolutional. 32x32x3 => 28x28x6.\n",
    "    L1_W = tf.Variable(tf.truncated_normal(shape=(5, 5, 3, 6), mean=mu, stddev=sigma))\n",
    "    L1_b = tf.Variable(tf.zeros(6))\n",
    "    L1_conv = tf.nn.conv2d(x, L1_W, [1, 1, 1, 1], 'VALID') + L1_b\n",
    "    \n",
    "    # Activation.\n",
    "    L1_act = tf.nn.relu(L1_conv)\n",
    "    \n",
    "    # Pooling. 28x28x6 => 14x14x6.\n",
    "    L1_out = tf.nn.avg_pool(L1_act, [1, 2, 2, 1], [1, 2, 2, 1], 'VALID')\n",
    "    \n",
    "    # Layer 2: Convolutional. 14x14x6 => 10x10x16.\n",
    "    L2_W = tf.Variable(tf.truncated_normal(shape=(5, 5, 6, 16), mean=mu, stddev=sigma))\n",
    "    L2_b = tf.Variable(tf.zeros(16))\n",
    "    L2_conv = tf.nn.conv2d(L1_out, L2_W, [1, 1, 1, 1], 'VALID') + L2_b\n",
    "    \n",
    "    # Activation.\n",
    "    L2_act = tf.nn.relu(L2_conv)\n",
    "    \n",
    "    # Pooling. 10x10x16 => 5x5x16.\n",
    "    L2_pool = tf.nn.avg_pool(L2_act, [1, 2, 2, 1], [1, 2, 2, 1], 'VALID')\n",
    "    \n",
    "    # Flatten. 5x5x16 => Output = 400.\n",
    "    L2_out = tf.contrib.layers.flatten(L2_pool)\n",
    "    \n",
    "    # Layer 3: Fully Connected. 400 => 120.\n",
    "    L3_weights = tf.Variable(tf.truncated_normal(shape=(400, 120), mean=mu, stddev=sigma))\n",
    "    L3_biases = tf.Variable(tf.zeros(120))\n",
    "    L3_linear = tf.matmul(L2_out, L3_weights) + L3_biases\n",
    "    \n",
    "    # Activation.\n",
    "    L3_out = tf.nn.relu(L3_linear)\n",
    "    \n",
    "    # Layer 4: Fully Connected. 120 => 84.\n",
    "    L4_weights = tf.Variable(tf.truncated_normal(shape=(120, 84), mean=mu, stddev=sigma))\n",
    "    L4_biases = tf.Variable(tf.zeros(84))\n",
    "    L4_linear = tf.matmul(L3_out, L4_weights) + L4_biases\n",
    "    \n",
    "    # Activation.\n",
    "    L4_out = tf.nn.relu(L4_linear)\n",
    "    \n",
    "    # Layer 5: Fully Connected. 84 => 43.\n",
    "    L5_weights = tf.Variable(tf.truncated_normal(shape=(84, 43), mean=mu, stddev=sigma))\n",
    "    L5_biases = tf.Variable(tf.zeros(43))\n",
    "    logits = tf.matmul(L4_out, L5_weights) + L5_biases\n",
    "    \n",
    "    return logits"
   ]
  },
  {
   "cell_type": "code",
   "execution_count": 8,
   "metadata": {
    "collapsed": true
   },
   "outputs": [],
   "source": [
    "### LeNet + Dropout\n",
    "def LeNet5do(x, keep_prob):    \n",
    "    # Arguments used for tf.truncated_normal\n",
    "    # randomly defines variables for the weights and biases for each layer\n",
    "    mu = 0\n",
    "    sigma = 0.1\n",
    "    \n",
    "    # Layer 1: Convolutional. 32x32x3 => 28x28x6.\n",
    "    L1_W = tf.Variable(tf.truncated_normal(shape=(5, 5, 3, 6), mean=mu, stddev=sigma))\n",
    "    L1_b = tf.Variable(tf.zeros(6))\n",
    "    L1_conv = tf.nn.conv2d(x, L1_W, [1, 1, 1, 1], 'VALID') + L1_b\n",
    "    \n",
    "    # Activation.\n",
    "    L1_act = tf.nn.relu(L1_conv)\n",
    "    \n",
    "    # Pooling. 28x28x6 => 14x14x6.\n",
    "    L1_out = tf.nn.avg_pool(L1_act, [1, 2, 2, 1], [1, 2, 2, 1], 'VALID')\n",
    "    \n",
    "    # Layer 2: Convolutional. 14x14x6 => 10x10x16.\n",
    "    L2_W = tf.Variable(tf.truncated_normal(shape=(5, 5, 6, 16), mean=mu, stddev=sigma))\n",
    "    L2_b = tf.Variable(tf.zeros(16))\n",
    "    L2_conv = tf.nn.conv2d(L1_out, L2_W, [1, 1, 1, 1], 'VALID') + L2_b\n",
    "    \n",
    "    # Activation.\n",
    "    L2_act = tf.nn.relu(L2_conv)\n",
    "    \n",
    "    # Pooling. 10x10x16 => 5x5x16.\n",
    "    L2_pool = tf.nn.avg_pool(L2_act, [1, 2, 2, 1], [1, 2, 2, 1], 'VALID')\n",
    "    \n",
    "    # Flatten. 5x5x16 => Output = 400.\n",
    "    L2_out = tf.contrib.layers.flatten(L2_pool)\n",
    "    \n",
    "    L2_do = tf.nn.dropout(L2_out, keep_prob)\n",
    "    \n",
    "    # Layer 3: Fully Connected. 400 => 120.\n",
    "    L3_weights = tf.Variable(tf.truncated_normal(shape=(400, 120), mean=mu, stddev=sigma))\n",
    "    L3_biases = tf.Variable(tf.zeros(120))\n",
    "    L3_linear = tf.matmul(L2_do, L3_weights) + L3_biases\n",
    "    \n",
    "    # Activation.\n",
    "    L3_out = tf.nn.relu(L3_linear)\n",
    "    \n",
    "    # Layer 4: Fully Connected. 120 => 84.\n",
    "    L4_weights = tf.Variable(tf.truncated_normal(shape=(120, 84), mean=mu, stddev=sigma))\n",
    "    L4_biases = tf.Variable(tf.zeros(84))\n",
    "    L4_linear = tf.matmul(L3_out, L4_weights) + L4_biases\n",
    "    \n",
    "    # Activation.\n",
    "    L4_out = tf.nn.relu(L4_linear)\n",
    "    \n",
    "    # Layer 5: Fully Connected. 84 => 43.\n",
    "    L5_weights = tf.Variable(tf.truncated_normal(shape=(84, 43), mean=mu, stddev=sigma))\n",
    "    L5_biases = tf.Variable(tf.zeros(43))\n",
    "    logits = tf.matmul(L4_out, L5_weights) + L5_biases\n",
    "    \n",
    "    return logits"
   ]
  },
  {
   "cell_type": "code",
   "execution_count": null,
   "metadata": {
    "collapsed": true
   },
   "outputs": [],
   "source": [
    "## WIP\n",
    "def net3(x, n_channels, n_classes):    \n",
    "    # Arguments used for tf.truncated_normal\n",
    "    # randomly defines variables for the weights and biases for each layer\n",
    "    mu = 0\n",
    "    sigma = 0.1\n",
    "    \n",
    "    # Layer 1: Convolutional. 32x32x3 => 32x32x12.\n",
    "    L1_k = 12\n",
    "    L1_W = tf.Variable(tf.truncated_normal(shape=(3, 3, n_channels, L1_k), mean=mu, stddev=sigma))\n",
    "    L1_b = tf.Variable(tf.zeros(L1_k))\n",
    "    L1_conv = tf.nn.conv2d(x, L1_W, [1, 1, 1, 1], 'SAME') + L1_b\n",
    "    \n",
    "    # Activation.\n",
    "    L1_act = tf.nn.relu(L1_conv)\n",
    "    \n",
    "    # Pooling. 32x32x12 => 16x16x12.\n",
    "    L1_out = tf.nn.avg_pool(L1_act, [1, 2, 2, 1], [1, 2, 2, 1], 'VALID')\n",
    "    \n",
    "    # Layer 2: Convolutional. 16x16x12 => 14x14x16.\n",
    "    L2_k = 6\n",
    "    L2_W = tf.Variable(tf.truncated_normal(shape=(3, 3, L1_k, L2_k), mean=mu, stddev=sigma))\n",
    "    L2_b = tf.Variable(tf.zeros(L2_k))\n",
    "    L2_conv = tf.nn.conv2d(L1_out, L2_W, [1, 1, 1, 1], 'VALID') + L2_b\n",
    "    \n",
    "    # Activation.\n",
    "    L2_act = tf.nn.relu(L2_conv)\n",
    "    \n",
    "    # Pooling. 14x14x6 => 7x7x6.\n",
    "    L2_pool = tf.nn.avg_pool(L2_act, [1, 2, 2, 1], [1, 2, 2, 1], 'VALID')\n",
    "    \n",
    "    # Flatten. 7x7x6 => Output = 294.\n",
    "    L2_out = tf.contrib.layers.flatten(L2_pool)\n",
    "    \n",
    "    # Layer 3: Fully Connected. 576 => 43.\n",
    "    L3_weights = tf.Variable(tf.truncated_normal(shape=(294, 43), mean=mu, stddev=sigma))\n",
    "    L3_biases = tf.Variable(tf.zeros(43))\n",
    "    logits = tf.matmul(L2_out, L3_weights) + L3_biases\n",
    "    \n",
    "    return logits"
   ]
  },
  {
   "cell_type": "markdown",
   "metadata": {},
   "source": [
    "### Train, Validate and Test the Model"
   ]
  },
  {
   "cell_type": "markdown",
   "metadata": {},
   "source": [
    "A validation set can be used to assess how well the model is performing. A low accuracy on the training and validation\n",
    "sets imply underfitting. A high accuracy on the training set but low accuracy on the validation set implies overfitting."
   ]
  },
  {
   "cell_type": "code",
   "execution_count": 157,
   "metadata": {
    "collapsed": true
   },
   "outputs": [],
   "source": [
    "# Training parameters\n",
    "EPOCHS = 50\n",
    "BATCH_SIZE = 128\n",
    "LR = 0.001\n",
    "KEEP_PROD = 0.5"
   ]
  },
  {
   "cell_type": "code",
   "execution_count": 158,
   "metadata": {
    "collapsed": false
   },
   "outputs": [],
   "source": [
    "x = tf.placeholder(tf.float32, (None, 32, 32, n_channels))\n",
    "y = tf.placeholder(tf.int32, (None))\n",
    "keep_prob = tf.placeholder(tf.float32)\n",
    "one_hot_y = tf.one_hot(y, n_classes)\n",
    "logits = LeNet5do(x, keep_prob)\n",
    "softmax = tf.nn.softmax(logits)\n",
    "prediction = tf.argmax(softmax, 1)"
   ]
  },
  {
   "cell_type": "code",
   "execution_count": 159,
   "metadata": {
    "collapsed": false
   },
   "outputs": [],
   "source": [
    "cross_entropy = tf.nn.softmax_cross_entropy_with_logits(logits=logits, labels=one_hot_y)\n",
    "loss_operation = tf.reduce_mean(cross_entropy)\n",
    "optimizer = tf.train.AdamOptimizer(learning_rate = LR)\n",
    "#optimizer = tf.train.GradientDescentOptimizer(learning_rate = LR)\n",
    "training_operation = optimizer.minimize(loss_operation)"
   ]
  },
  {
   "cell_type": "code",
   "execution_count": 160,
   "metadata": {
    "collapsed": true
   },
   "outputs": [],
   "source": [
    "correct_prediction = tf.equal(tf.argmax(logits, 1), tf.argmax(one_hot_y, 1))\n",
    "accuracy_operation = tf.reduce_mean(tf.cast(correct_prediction, tf.float32))\n",
    "\n",
    "def evaluate(X_data, y_data):\n",
    "    num_examples = len(X_data)\n",
    "    total_accuracy = 0\n",
    "    sess = tf.get_default_session()\n",
    "    for offset in range(0, num_examples, BATCH_SIZE):\n",
    "        batch_x, batch_y = X_data[offset:offset+BATCH_SIZE], y_data[offset:offset+BATCH_SIZE]\n",
    "        accuracy = sess.run(accuracy_operation, feed_dict={x: batch_x, y: batch_y, keep_prob: 1})\n",
    "        total_accuracy += (accuracy * len(batch_x))\n",
    "    return total_accuracy / num_examples"
   ]
  },
  {
   "cell_type": "markdown",
   "metadata": {},
   "source": [
    "### Training and Validation"
   ]
  },
  {
   "cell_type": "code",
   "execution_count": 161,
   "metadata": {
    "collapsed": false
   },
   "outputs": [
    {
     "name": "stdout",
     "output_type": "stream",
     "text": [
      "Training...\n",
      "\n",
      "EPOCH 1 ...\n",
      "Validation Accuracy = 0.569\n",
      "\n",
      "EPOCH 2 ...\n",
      "Validation Accuracy = 0.759\n",
      "\n",
      "EPOCH 3 ...\n",
      "Validation Accuracy = 0.820\n",
      "\n",
      "EPOCH 4 ...\n",
      "Validation Accuracy = 0.843\n",
      "\n",
      "EPOCH 5 ...\n",
      "Validation Accuracy = 0.859\n",
      "\n",
      "EPOCH 6 ...\n",
      "Validation Accuracy = 0.880\n",
      "\n",
      "EPOCH 7 ...\n",
      "Validation Accuracy = 0.895\n",
      "\n",
      "EPOCH 8 ...\n",
      "Validation Accuracy = 0.896\n",
      "\n",
      "EPOCH 9 ...\n",
      "Validation Accuracy = 0.910\n",
      "\n",
      "EPOCH 10 ...\n",
      "Validation Accuracy = 0.907\n",
      "\n",
      "EPOCH 11 ...\n",
      "Validation Accuracy = 0.917\n",
      "\n",
      "EPOCH 12 ...\n",
      "Validation Accuracy = 0.917\n",
      "\n",
      "EPOCH 13 ...\n",
      "Validation Accuracy = 0.926\n",
      "\n",
      "EPOCH 14 ...\n",
      "Validation Accuracy = 0.922\n",
      "\n",
      "EPOCH 15 ...\n",
      "Validation Accuracy = 0.935\n",
      "\n",
      "EPOCH 16 ...\n",
      "Validation Accuracy = 0.938\n",
      "\n",
      "EPOCH 17 ...\n",
      "Validation Accuracy = 0.929\n",
      "\n",
      "EPOCH 18 ...\n",
      "Validation Accuracy = 0.939\n",
      "\n",
      "EPOCH 19 ...\n",
      "Validation Accuracy = 0.941\n",
      "\n",
      "EPOCH 20 ...\n",
      "Validation Accuracy = 0.934\n",
      "\n",
      "EPOCH 21 ...\n",
      "Validation Accuracy = 0.941\n",
      "\n",
      "EPOCH 22 ...\n",
      "Validation Accuracy = 0.950\n",
      "\n",
      "EPOCH 23 ...\n",
      "Validation Accuracy = 0.946\n",
      "\n",
      "EPOCH 24 ...\n",
      "Validation Accuracy = 0.936\n",
      "\n",
      "EPOCH 25 ...\n",
      "Validation Accuracy = 0.945\n",
      "\n",
      "EPOCH 26 ...\n",
      "Validation Accuracy = 0.948\n",
      "\n",
      "EPOCH 27 ...\n",
      "Validation Accuracy = 0.947\n",
      "\n",
      "EPOCH 28 ...\n",
      "Validation Accuracy = 0.947\n",
      "\n",
      "EPOCH 29 ...\n",
      "Validation Accuracy = 0.944\n",
      "\n",
      "EPOCH 30 ...\n",
      "Validation Accuracy = 0.952\n",
      "\n",
      "EPOCH 31 ...\n",
      "Validation Accuracy = 0.947\n",
      "\n",
      "EPOCH 32 ...\n",
      "Validation Accuracy = 0.953\n",
      "\n",
      "EPOCH 33 ...\n",
      "Validation Accuracy = 0.947\n",
      "\n",
      "EPOCH 34 ...\n",
      "Validation Accuracy = 0.945\n",
      "\n",
      "EPOCH 35 ...\n",
      "Validation Accuracy = 0.945\n",
      "\n",
      "EPOCH 36 ...\n",
      "Validation Accuracy = 0.949\n",
      "\n",
      "EPOCH 37 ...\n",
      "Validation Accuracy = 0.949\n",
      "\n",
      "EPOCH 38 ...\n",
      "Validation Accuracy = 0.947\n",
      "\n",
      "EPOCH 39 ...\n",
      "Validation Accuracy = 0.950\n",
      "\n",
      "EPOCH 40 ...\n",
      "Validation Accuracy = 0.956\n",
      "\n",
      "EPOCH 41 ...\n",
      "Validation Accuracy = 0.944\n",
      "\n",
      "EPOCH 42 ...\n",
      "Validation Accuracy = 0.939\n",
      "\n",
      "EPOCH 43 ...\n",
      "Validation Accuracy = 0.953\n",
      "\n",
      "EPOCH 44 ...\n",
      "Validation Accuracy = 0.953\n",
      "\n",
      "EPOCH 45 ...\n",
      "Validation Accuracy = 0.951\n",
      "\n",
      "EPOCH 46 ...\n",
      "Validation Accuracy = 0.957\n",
      "\n",
      "EPOCH 47 ...\n",
      "Validation Accuracy = 0.958\n",
      "\n",
      "EPOCH 48 ...\n",
      "Validation Accuracy = 0.957\n",
      "\n",
      "EPOCH 49 ...\n",
      "Validation Accuracy = 0.955\n",
      "\n",
      "EPOCH 50 ...\n",
      "Validation Accuracy = 0.945\n",
      "\n",
      "Model saved\n"
     ]
    }
   ],
   "source": [
    "### DO NOT MODIFY THIS SECTION\n",
    "saver = tf.train.Saver()\n",
    "\n",
    "with tf.Session() as sess:\n",
    "    sess.run(tf.global_variables_initializer())\n",
    "    num_examples = len(X_train)\n",
    "    \n",
    "    print(\"Training...\")\n",
    "    print()\n",
    "    for i in range(EPOCHS):\n",
    "        X_train, y_train = shuffle(X_train, y_train)\n",
    "        for offset in range(0, num_examples, BATCH_SIZE):\n",
    "            end = offset + BATCH_SIZE\n",
    "            batch_x, batch_y = X_train[offset:end], y_train[offset:end]\n",
    "            sess.run(training_operation, feed_dict={x: batch_x, y: batch_y, keep_prob: KEEP_PROD})\n",
    "            \n",
    "        validation_accuracy = evaluate(X_valid, y_valid)\n",
    "        print(\"EPOCH {} ...\".format(i+1))\n",
    "        print(\"Validation Accuracy = {:.3f}\".format(validation_accuracy))\n",
    "        print()\n",
    "        \n",
    "    saver.save(sess, './lenet')\n",
    "    print(\"Model saved\")"
   ]
  },
  {
   "cell_type": "markdown",
   "metadata": {},
   "source": [
    "### Testing"
   ]
  },
  {
   "cell_type": "code",
   "execution_count": 162,
   "metadata": {
    "collapsed": false
   },
   "outputs": [
    {
     "name": "stdout",
     "output_type": "stream",
     "text": [
      "Test Accuracy = 0.940\n"
     ]
    }
   ],
   "source": [
    "### DO NOT MODIFY THIS SECTION\n",
    "with tf.Session() as sess:\n",
    "    saver.restore(sess, tf.train.latest_checkpoint('.'))\n",
    "\n",
    "    test_accuracy = evaluate(X_test, y_test)\n",
    "    print(\"Test Accuracy = {:.3f}\".format(test_accuracy))"
   ]
  },
  {
   "cell_type": "markdown",
   "metadata": {},
   "source": [
    "---\n",
    "\n",
    "## Step 3: Test a Model on New Images\n",
    "\n",
    "To give yourself more insight into how your model is working, download at least five pictures of German traffic signs from the web and use your model to predict the traffic sign type.\n",
    "\n",
    "You may find `signnames.csv` useful as it contains mappings from the class id (integer) to the actual sign name."
   ]
  },
  {
   "cell_type": "markdown",
   "metadata": {},
   "source": [
    "### Load and Output the Images"
   ]
  },
  {
   "cell_type": "code",
   "execution_count": null,
   "metadata": {
    "collapsed": true
   },
   "outputs": [],
   "source": [
    "### Load the images and plot them here.\n",
    "### Feel free to use as many code cells as needed."
   ]
  },
  {
   "cell_type": "markdown",
   "metadata": {},
   "source": [
    "### Predict the Sign Type for Each Image"
   ]
  },
  {
   "cell_type": "code",
   "execution_count": 310,
   "metadata": {
    "collapsed": false
   },
   "outputs": [],
   "source": [
    "### Run the predictions here and use the model to output the prediction for each image.\n",
    "### Make sure to pre-process the images with the same pre-processing pipeline used earlier.\n",
    "### Feel free to use as many code cells as needed.\n",
    "def predict(image):\n",
    "    '''\n",
    "    predict single image\n",
    "    input: normalized image in format (32, 32, 3)\n",
    "    output: the index of the class\n",
    "    '''\n",
    "    image_reshaped = image.reshape(1, 32, 32, 3)\n",
    "\n",
    "    with tf.Session() as sess:\n",
    "        saver.restore(sess, tf.train.latest_checkpoint('.'))\n",
    "        \n",
    "        pred, = sess.run(prediction, feed_dict={x: image_reshaped, keep_prob: 1})\n",
    "        return pred"
   ]
  },
  {
   "cell_type": "code",
   "execution_count": 311,
   "metadata": {
    "collapsed": false
   },
   "outputs": [],
   "source": [
    "def predict_image(image):\n",
    "    #plot_image(image)\n",
    "    \n",
    "    normalized_image = normalize(image)\n",
    "    predicted_class = predict(normalized_image)\n",
    "    predicted_description = signnames[predicted_class]\n",
    "    return predicted_description\n",
    "    #print (\"predicted class: {} ({})\".format(predicted_class, predicted_description))\n"
   ]
  },
  {
   "cell_type": "code",
   "execution_count": 313,
   "metadata": {
    "collapsed": false
   },
   "outputs": [
    {
     "data": {
      "image/png": "[encoded data removed]",
      "text/plain": [
       "<matplotlib.figure.Figure at 0x126cc0208>"
      ]
     },
     "metadata": {},
     "output_type": "display_data"
    }
   ],
   "source": [
    "def get_test_image(id):\n",
    "    image = Image.open(data_path + \"/test_images/\" + str(id) + \".ppm\")\n",
    "    image = image.resize([32, 32], Image.ANTIALIAS)\n",
    "    test_image = np.array(image, dtype=np.float32)\n",
    "    return test_image\n",
    "\n",
    "# images are downloaded and saved under /test_images\n",
    "fig = plt.figure(figsize=(10, 10))\n",
    "fig.subplots_adjust(hspace=.5)\n",
    "for i in range(5):\n",
    "    test_image = get_test_image(i+1)\n",
    "    description = predict_image(test_image)\n",
    "    f = fig.add_subplot(5, 1, i + 1)\n",
    "    f.set_title(description)\n",
    "    plt.imshow(test_image)\n",
    "    "
   ]
  },
  {
   "cell_type": "markdown",
   "metadata": {},
   "source": [
    "### Analyze Performance"
   ]
  },
  {
   "cell_type": "code",
   "execution_count": null,
   "metadata": {
    "collapsed": true
   },
   "outputs": [],
   "source": [
    "### Calculate the accuracy for these 5 new images. \n",
    "### For example, if the model predicted 1 out of 5 signs correctly, it's 20% accurate on these new images."
   ]
  },
  {
   "cell_type": "code",
   "execution_count": null,
   "metadata": {
    "collapsed": true
   },
   "outputs": [],
   "source": []
  },
  {
   "cell_type": "code",
   "execution_count": 122,
   "metadata": {
    "collapsed": false
   },
   "outputs": [
    {
     "name": "stdout",
     "output_type": "stream",
     "text": [
      "[5]\n"
     ]
    }
   ],
   "source": [
    "with tf.Session() as sess:\n",
    "    pr = tf.placeholder(tf.float32)\n",
    "    pmax = tf.argmax(pr, 1)\n",
    "    output = sess.run(pmax, feed_dict={pr: p})\n",
    "    print(output)"
   ]
  },
  {
   "cell_type": "markdown",
   "metadata": {},
   "source": [
    "### Output Top 5 Softmax Probabilities For Each Image Found on the Web"
   ]
  },
  {
   "cell_type": "markdown",
   "metadata": {},
   "source": [
    "For each of the new images, print out the model's softmax probabilities to show the **certainty** of the model's predictions (limit the output to the top 5 probabilities for each image). [`tf.nn.top_k`](https://www.tensorflow.org/versions/r0.12/api_docs/python/nn.html#top_k) could prove helpful here. \n",
    "\n",
    "The example below demonstrates how tf.nn.top_k can be used to find the top k predictions for each image.\n",
    "\n",
    "`tf.nn.top_k` will return the values and indices (class ids) of the top k predictions. So if k=3, for each sign, it'll return the 3 largest probabilities (out of a possible 43) and the correspoding class ids.\n",
    "\n",
    "Take this numpy array as an example. The values in the array represent predictions. The array contains softmax probabilities for five candidate images with six possible classes. `tk.nn.top_k` is used to choose the three classes with the highest probability:\n",
    "\n",
    "```\n",
    "# (5, 6) array\n",
    "a = np.array([[ 0.24879643,  0.07032244,  0.12641572,  0.34763842,  0.07893497,\n",
    "         0.12789202],\n",
    "       [ 0.28086119,  0.27569815,  0.08594638,  0.0178669 ,  0.18063401,\n",
    "         0.15899337],\n",
    "       [ 0.26076848,  0.23664738,  0.08020603,  0.07001922,  0.1134371 ,\n",
    "         0.23892179],\n",
    "       [ 0.11943333,  0.29198961,  0.02605103,  0.26234032,  0.1351348 ,\n",
    "         0.16505091],\n",
    "       [ 0.09561176,  0.34396535,  0.0643941 ,  0.16240774,  0.24206137,\n",
    "         0.09155967]])\n",
    "```\n",
    "\n",
    "Running it through `sess.run(tf.nn.top_k(tf.constant(a), k=3))` produces:\n",
    "\n",
    "```\n",
    "TopKV2(values=array([[ 0.34763842,  0.24879643,  0.12789202],\n",
    "       [ 0.28086119,  0.27569815,  0.18063401],\n",
    "       [ 0.26076848,  0.23892179,  0.23664738],\n",
    "       [ 0.29198961,  0.26234032,  0.16505091],\n",
    "       [ 0.34396535,  0.24206137,  0.16240774]]), indices=array([[3, 0, 5],\n",
    "       [0, 1, 4],\n",
    "       [0, 5, 1],\n",
    "       [1, 3, 5],\n",
    "       [1, 4, 3]], dtype=int32))\n",
    "```\n",
    "\n",
    "Looking just at the first row we get `[ 0.34763842,  0.24879643,  0.12789202]`, you can confirm these are the 3 largest probabilities in `a`. You'll also notice `[3, 0, 5]` are the corresponding indices."
   ]
  },
  {
   "cell_type": "code",
   "execution_count": 316,
   "metadata": {
    "collapsed": true
   },
   "outputs": [],
   "source": [
    "### Print out the top five softmax probabilities for the predictions on the German traffic sign images found on the web. \n",
    "### Feel free to use as many code cells as needed.\n",
    "def top_n(image, n=3):\n",
    "    '''\n",
    "    predict single image\n",
    "    input: normalized image in format (32, 32, 3)\n",
    "    output: the index of the class\n",
    "    '''\n",
    "    image_reshaped = image.reshape(1, 32, 32, 3)\n",
    "    top3 = tf.nn.top_k(softmax, k=n)\n",
    "    with tf.Session() as sess:\n",
    "        saver.restore(sess, tf.train.latest_checkpoint('.'))\n",
    "        top_n_prob = sess.run(top3, feed_dict={x: image_reshaped, keep_prob: 1})\n",
    "        return top_n_prob"
   ]
  },
  {
   "cell_type": "code",
   "execution_count": 321,
   "metadata": {
    "collapsed": false
   },
   "outputs": [],
   "source": [
    "test_image = get_test_image(3)\n",
    "test_image = normalize(test_image)\n",
    "p = top_n(test_image)"
   ]
  },
  {
   "cell_type": "code",
   "execution_count": 324,
   "metadata": {
    "collapsed": false
   },
   "outputs": [
    {
     "data": {
      "text/plain": [
       "array([[ 6, 42,  5]], dtype=int32)"
      ]
     },
     "execution_count": 324,
     "metadata": {},
     "output_type": "execute_result"
    }
   ],
   "source": [
    "p.values\n",
    "p.indices"
   ]
  },
  {
   "cell_type": "markdown",
   "metadata": {},
   "source": [
    "---\n",
    "\n",
    "## Step 4: Visualize the Neural Network's State with Test Images\n",
    "\n",
    " This Section is not required to complete but acts as an additional excersise for understaning the output of a neural network's weights. While neural networks can be a great learning device they are often referred to as a black box. We can understand what the weights of a neural network look like better by plotting their feature maps. After successfully training your neural network you can see what it's feature maps look like by plotting the output of the network's weight layers in response to a test stimuli image. From these plotted feature maps, it's possible to see what characteristics of an image the network finds interesting. For a sign, maybe the inner network feature maps react with high activation to the sign's boundary outline or to the contrast in the sign's painted symbol.\n",
    "\n",
    " Provided for you below is the function code that allows you to get the visualization output of any tensorflow weight layer you want. The inputs to the function should be a stimuli image, one used during training or a new one you provided, and then the tensorflow variable name that represents the layer's state during the training process, for instance if you wanted to see what the [LeNet lab's](https://classroom.udacity.com/nanodegrees/nd013/parts/fbf77062-5703-404e-b60c-95b78b2f3f9e/modules/6df7ae49-c61c-4bb2-a23e-6527e69209ec/lessons/601ae704-1035-4287-8b11-e2c2716217ad/concepts/d4aca031-508f-4e0b-b493-e7b706120f81) feature maps looked like for it's second convolutional layer you could enter conv2 as the tf_activation variable.\n",
    "\n",
    "For an example of what feature map outputs look like, check out NVIDIA's results in their paper [End-to-End Deep Learning for Self-Driving Cars](https://devblogs.nvidia.com/parallelforall/deep-learning-self-driving-cars/) in the section Visualization of internal CNN State. NVIDIA was able to show that their network's inner weights had high activations to road boundary lines by comparing feature maps from an image with a clear path to one without. Try experimenting with a similar test to show that your trained network's weights are looking for interesting features, whether it's looking at differences in feature maps from images with or without a sign, or even what feature maps look like in a trained network vs a completely untrained one on the same sign image.\n",
    "\n",
    "<figure>\n",
    " <img src=\"visualize_cnn.png\" width=\"380\" alt=\"Combined Image\" />\n",
    " <figcaption>\n",
    " <p></p> \n",
    " <p style=\"text-align: center;\"> Your output should look something like this (above)</p> \n",
    " </figcaption>\n",
    "</figure>\n",
    " <p></p> \n"
   ]
  },
  {
   "cell_type": "code",
   "execution_count": null,
   "metadata": {
    "collapsed": true
   },
   "outputs": [],
   "source": [
    "### Visualize your network's feature maps here.\n",
    "### Feel free to use as many code cells as needed.\n",
    "\n",
    "# image_input: the test image being fed into the network to produce the feature maps\n",
    "# tf_activation: should be a tf variable name used during your training procedure that represents the calculated state of a specific weight layer\n",
    "# activation_min/max: can be used to view the activation contrast in more detail, by default matplot sets min and max to the actual min and max values of the output\n",
    "# plt_num: used to plot out multiple different weight feature map sets on the same block, just extend the plt number for each new feature map entry\n",
    "\n",
    "def outputFeatureMap(image_input, tf_activation, activation_min=-1, activation_max=-1 ,plt_num=1):\n",
    "    # Here make sure to preprocess your image_input in a way your network expects\n",
    "    # with size, normalization, ect if needed\n",
    "    # image_input =\n",
    "    # Note: x should be the same name as your network's tensorflow data placeholder variable\n",
    "    # If you get an error tf_activation is not defined it maybe having trouble accessing the variable from inside a function\n",
    "    activation = tf_activation.eval(session=sess,feed_dict={x : image_input})\n",
    "    featuremaps = activation.shape[3]\n",
    "    plt.figure(plt_num, figsize=(15,15))\n",
    "    for featuremap in range(featuremaps):\n",
    "        plt.subplot(6,8, featuremap+1) # sets the number of feature maps to show on each row and column\n",
    "        plt.title('FeatureMap ' + str(featuremap)) # displays the feature map number\n",
    "        if activation_min != -1 & activation_max != -1:\n",
    "            plt.imshow(activation[0,:,:, featuremap], interpolation=\"nearest\", vmin =activation_min, vmax=activation_max, cmap=\"gray\")\n",
    "        elif activation_max != -1:\n",
    "            plt.imshow(activation[0,:,:, featuremap], interpolation=\"nearest\", vmax=activation_max, cmap=\"gray\")\n",
    "        elif activation_min !=-1:\n",
    "            plt.imshow(activation[0,:,:, featuremap], interpolation=\"nearest\", vmin=activation_min, cmap=\"gray\")\n",
    "        else:\n",
    "            plt.imshow(activation[0,:,:, featuremap], interpolation=\"nearest\", cmap=\"gray\")"
   ]
  },
  {
   "cell_type": "code",
   "execution_count": null,
   "metadata": {
    "collapsed": true
   },
   "outputs": [],
   "source": [
    "outputFeatureMap(test_image, con"
   ]
  },
  {
   "cell_type": "markdown",
   "metadata": {},
   "source": [
    "### Question 9\n",
    "\n",
    "Discuss how you used the visual output of your trained network's feature maps to show that it had learned to look for interesting characteristics in traffic sign images\n"
   ]
  },
  {
   "cell_type": "markdown",
   "metadata": {},
   "source": [
    "**Answer:**"
   ]
  },
  {
   "cell_type": "markdown",
   "metadata": {},
   "source": [
    "> **Note**: Once you have completed all of the code implementations and successfully answered each question above, you may finalize your work by exporting the iPython Notebook as an HTML document. You can do this by using the menu above and navigating to  \\n\",\n",
    "    \"**File -> Download as -> HTML (.html)**. Include the finished document along with this notebook as your submission."
   ]
  },
  {
   "cell_type": "markdown",
   "metadata": {},
   "source": [
    "### Project Writeup\n",
    "\n",
    "Once you have completed the code implementation, document your results in a project writeup using this [template](https://github.com/udacity/CarND-Traffic-Sign-Classifier-Project/blob/master/writeup_template.md) as a guide. The writeup can be in a markdown or pdf file. "
   ]
  }
 ],
 "metadata": {
  "anaconda-cloud": {},
  "kernelspec": {
   "display_name": "Python 3",
   "language": "python",
   "name": "python3"
  },
  "language_info": {
   "codemirror_mode": {
    "name": "ipython",
    "version": 3
   },
   "file_extension": ".py",
   "mimetype": "text/x-python",
   "name": "python",
   "nbconvert_exporter": "python",
   "pygments_lexer": "ipython3",
   "version": "3.5.3"
  }
 },
 "nbformat": 4,
 "nbformat_minor": 1
}
